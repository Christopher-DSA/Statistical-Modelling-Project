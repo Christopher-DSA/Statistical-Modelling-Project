{
 "cells": [
  {
   "cell_type": "code",
   "execution_count": 13,
   "metadata": {
    "tags": []
   },
   "outputs": [],
   "source": [
    "import sqlite3 as sq3\n",
    "import pandas as pd\n",
    "import numpy as np\n",
    "import statsmodels.api as sm"
   ]
  },
  {
   "cell_type": "code",
   "execution_count": 4,
   "metadata": {
    "tags": []
   },
   "outputs": [
    {
     "data": {
      "text/html": [
       "<div>\n",
       "<style scoped>\n",
       "    .dataframe tbody tr th:only-of-type {\n",
       "        vertical-align: middle;\n",
       "    }\n",
       "\n",
       "    .dataframe tbody tr th {\n",
       "        vertical-align: top;\n",
       "    }\n",
       "\n",
       "    .dataframe thead th {\n",
       "        text-align: right;\n",
       "    }\n",
       "</style>\n",
       "<table border=\"1\" class=\"dataframe\">\n",
       "  <thead>\n",
       "    <tr style=\"text-align: right;\">\n",
       "      <th></th>\n",
       "      <th>name</th>\n",
       "      <th>rating</th>\n",
       "      <th>address</th>\n",
       "      <th>latitude</th>\n",
       "      <th>longitude</th>\n",
       "      <th>distance</th>\n",
       "    </tr>\n",
       "  </thead>\n",
       "  <tbody>\n",
       "    <tr>\n",
       "      <th>0</th>\n",
       "      <td>Betty’s East</td>\n",
       "      <td>4.5</td>\n",
       "      <td>1301 Queen Street E</td>\n",
       "      <td>43.663455</td>\n",
       "      <td>-79.327992</td>\n",
       "      <td>689.778721</td>\n",
       "    </tr>\n",
       "    <tr>\n",
       "      <th>1</th>\n",
       "      <td>Lloyd's On Queen</td>\n",
       "      <td>5.0</td>\n",
       "      <td>1298 Queen St E</td>\n",
       "      <td>43.663801</td>\n",
       "      <td>-79.328356</td>\n",
       "      <td>707.598820</td>\n",
       "    </tr>\n",
       "    <tr>\n",
       "      <th>2</th>\n",
       "      <td>Boardwalk Place</td>\n",
       "      <td>2.5</td>\n",
       "      <td>1675 Lake Shore Boulevard E</td>\n",
       "      <td>43.663010</td>\n",
       "      <td>-79.310898</td>\n",
       "      <td>758.567399</td>\n",
       "    </tr>\n",
       "    <tr>\n",
       "      <th>3</th>\n",
       "      <td>Baldev Paan Cold Drink House</td>\n",
       "      <td>3.0</td>\n",
       "      <td>1399 Gerrard Street E</td>\n",
       "      <td>43.671710</td>\n",
       "      <td>-79.323520</td>\n",
       "      <td>772.512252</td>\n",
       "    </tr>\n",
       "    <tr>\n",
       "      <th>4</th>\n",
       "      <td>Two Headed Dog</td>\n",
       "      <td>2.5</td>\n",
       "      <td>1469 Gerrard Street E</td>\n",
       "      <td>43.672358</td>\n",
       "      <td>-79.320782</td>\n",
       "      <td>792.227554</td>\n",
       "    </tr>\n",
       "    <tr>\n",
       "      <th>5</th>\n",
       "      <td>The Thirsty Loon</td>\n",
       "      <td>4.0</td>\n",
       "      <td>1489 Gerrard Street E</td>\n",
       "      <td>43.672394</td>\n",
       "      <td>-79.319906</td>\n",
       "      <td>792.332218</td>\n",
       "    </tr>\n",
       "    <tr>\n",
       "      <th>6</th>\n",
       "      <td>Lake Inez</td>\n",
       "      <td>4.5</td>\n",
       "      <td>1471 Gerrard Street E</td>\n",
       "      <td>43.672340</td>\n",
       "      <td>-79.320640</td>\n",
       "      <td>794.661955</td>\n",
       "    </tr>\n",
       "    <tr>\n",
       "      <th>7</th>\n",
       "      <td>Black Pony</td>\n",
       "      <td>4.5</td>\n",
       "      <td>1481 Gerrard Street E</td>\n",
       "      <td>43.672410</td>\n",
       "      <td>-79.320400</td>\n",
       "      <td>805.518073</td>\n",
       "    </tr>\n",
       "    <tr>\n",
       "      <th>8</th>\n",
       "      <td>Jenni Place</td>\n",
       "      <td>3.0</td>\n",
       "      <td>1338 Gerrard Street E</td>\n",
       "      <td>43.671800</td>\n",
       "      <td>-79.324810</td>\n",
       "      <td>829.759140</td>\n",
       "    </tr>\n",
       "    <tr>\n",
       "      <th>9</th>\n",
       "      <td>Beach Club</td>\n",
       "      <td>3.0</td>\n",
       "      <td>1681 Lake Shore Boulevard E</td>\n",
       "      <td>43.663207</td>\n",
       "      <td>-79.310013</td>\n",
       "      <td>839.312073</td>\n",
       "    </tr>\n",
       "    <tr>\n",
       "      <th>10</th>\n",
       "      <td>Toronto Beach Club</td>\n",
       "      <td>3.0</td>\n",
       "      <td>1681 Lake Shore Boulevard E</td>\n",
       "      <td>43.663207</td>\n",
       "      <td>-79.310013</td>\n",
       "      <td>839.312073</td>\n",
       "    </tr>\n",
       "    <tr>\n",
       "      <th>11</th>\n",
       "      <td>JP Restaurant</td>\n",
       "      <td>3.5</td>\n",
       "      <td>270 Coxwell Avenue</td>\n",
       "      <td>43.673030</td>\n",
       "      <td>-79.319550</td>\n",
       "      <td>868.716398</td>\n",
       "    </tr>\n",
       "    <tr>\n",
       "      <th>12</th>\n",
       "      <td>The Duke Live</td>\n",
       "      <td>3.5</td>\n",
       "      <td>1225 Queen Street E</td>\n",
       "      <td>43.663149</td>\n",
       "      <td>-79.330307</td>\n",
       "      <td>877.705944</td>\n",
       "    </tr>\n",
       "    <tr>\n",
       "      <th>13</th>\n",
       "      <td>Shamrock Bowl and Restobar</td>\n",
       "      <td>4.0</td>\n",
       "      <td>280 Coxwell Avenue</td>\n",
       "      <td>43.673290</td>\n",
       "      <td>-79.319790</td>\n",
       "      <td>896.914859</td>\n",
       "    </tr>\n",
       "    <tr>\n",
       "      <th>14</th>\n",
       "      <td>Le Conciliabule</td>\n",
       "      <td>4.5</td>\n",
       "      <td>1300 Gerrard Street E</td>\n",
       "      <td>43.671365</td>\n",
       "      <td>-79.327225</td>\n",
       "      <td>903.609078</td>\n",
       "    </tr>\n",
       "    <tr>\n",
       "      <th>15</th>\n",
       "      <td>Queen's Head</td>\n",
       "      <td>2.5</td>\n",
       "      <td>1214 Queen Street E</td>\n",
       "      <td>43.663210</td>\n",
       "      <td>-79.330855</td>\n",
       "      <td>918.527449</td>\n",
       "    </tr>\n",
       "  </tbody>\n",
       "</table>\n",
       "</div>"
      ],
      "text/plain": [
       "                            name  rating                      address  \\\n",
       "0                   Betty’s East     4.5          1301 Queen Street E   \n",
       "1               Lloyd's On Queen     5.0              1298 Queen St E   \n",
       "2                Boardwalk Place     2.5  1675 Lake Shore Boulevard E   \n",
       "3   Baldev Paan Cold Drink House     3.0        1399 Gerrard Street E   \n",
       "4                 Two Headed Dog     2.5        1469 Gerrard Street E   \n",
       "5               The Thirsty Loon     4.0        1489 Gerrard Street E   \n",
       "6                      Lake Inez     4.5        1471 Gerrard Street E   \n",
       "7                     Black Pony     4.5        1481 Gerrard Street E   \n",
       "8                    Jenni Place     3.0        1338 Gerrard Street E   \n",
       "9                     Beach Club     3.0  1681 Lake Shore Boulevard E   \n",
       "10            Toronto Beach Club     3.0  1681 Lake Shore Boulevard E   \n",
       "11                 JP Restaurant     3.5           270 Coxwell Avenue   \n",
       "12                 The Duke Live     3.5          1225 Queen Street E   \n",
       "13    Shamrock Bowl and Restobar     4.0           280 Coxwell Avenue   \n",
       "14               Le Conciliabule     4.5        1300 Gerrard Street E   \n",
       "15                  Queen's Head     2.5          1214 Queen Street E   \n",
       "\n",
       "     latitude  longitude    distance  \n",
       "0   43.663455 -79.327992  689.778721  \n",
       "1   43.663801 -79.328356  707.598820  \n",
       "2   43.663010 -79.310898  758.567399  \n",
       "3   43.671710 -79.323520  772.512252  \n",
       "4   43.672358 -79.320782  792.227554  \n",
       "5   43.672394 -79.319906  792.332218  \n",
       "6   43.672340 -79.320640  794.661955  \n",
       "7   43.672410 -79.320400  805.518073  \n",
       "8   43.671800 -79.324810  829.759140  \n",
       "9   43.663207 -79.310013  839.312073  \n",
       "10  43.663207 -79.310013  839.312073  \n",
       "11  43.673030 -79.319550  868.716398  \n",
       "12  43.663149 -79.330307  877.705944  \n",
       "13  43.673290 -79.319790  896.914859  \n",
       "14  43.671365 -79.327225  903.609078  \n",
       "15  43.663210 -79.330855  918.527449  "
      ]
     },
     "execution_count": 4,
     "metadata": {},
     "output_type": "execute_result"
    }
   ],
   "source": [
    "conn = sq3.connect('bike_data.db')\n",
    "df = pd.read_sql_query(\"SELECT * from yelp_data\", conn)\n",
    "df"
   ]
  },
  {
   "cell_type": "markdown",
   "metadata": {},
   "source": [
    "## Hypothesis Testing"
   ]
  },
  {
   "cell_type": "markdown",
   "metadata": {},
   "source": [
    "**H0**: There is not a correlation between distance of bike stop to a bar and the rating of the bar.\n",
    "\n",
    "**HA**: There is a correlation between distance of bike stop to a bar and the rating of the bar.\n",
    "\n",
    "\n",
    "---"
   ]
  },
  {
   "cell_type": "markdown",
   "metadata": {},
   "source": [
    "Build a regression model."
   ]
  },
  {
   "cell_type": "code",
   "execution_count": 20,
   "metadata": {
    "tags": []
   },
   "outputs": [
    {
     "name": "stdout",
     "output_type": "stream",
     "text": [
      "                            OLS Regression Results                            \n",
      "==============================================================================\n",
      "Dep. Variable:                 rating   R-squared:                       0.079\n",
      "Model:                            OLS   Adj. R-squared:                  0.013\n",
      "Method:                 Least Squares   F-statistic:                     1.200\n",
      "Date:                Sun, 30 Jul 2023   Prob (F-statistic):              0.292\n",
      "Time:                        19:47:32   Log-Likelihood:                -18.758\n",
      "No. Observations:                  16   AIC:                             41.52\n",
      "Df Residuals:                      14   BIC:                             43.06\n",
      "Df Model:                           1                                         \n",
      "Covariance Type:            nonrobust                                         \n",
      "==============================================================================\n",
      "                 coef    std err          t      P>|t|      [0.025      0.975]\n",
      "------------------------------------------------------------------------------\n",
      "const          6.4839      2.646      2.450      0.028       0.808      12.160\n",
      "distance      -0.0035      0.003     -1.096      0.292      -0.010       0.003\n",
      "==============================================================================\n",
      "Omnibus:                        2.816   Durbin-Watson:                   1.581\n",
      "Prob(Omnibus):                  0.245   Jarque-Bera (JB):                1.131\n",
      "Skew:                          -0.090   Prob(JB):                        0.568\n",
      "Kurtosis:                       1.710   Cond. No.                     1.04e+04\n",
      "==============================================================================\n",
      "\n",
      "Notes:\n",
      "[1] Standard Errors assume that the covariance matrix of the errors is correctly specified.\n",
      "[2] The condition number is large, 1.04e+04. This might indicate that there are\n",
      "strong multicollinearity or other numerical problems.\n"
     ]
    },
    {
     "name": "stderr",
     "output_type": "stream",
     "text": [
      "C:\\ProgramData\\anaconda3\\Lib\\site-packages\\scipy\\stats\\_stats_py.py:1736: UserWarning: kurtosistest only valid for n>=20 ... continuing anyway, n=16\n",
      "  warnings.warn(\"kurtosistest only valid for n>=20 ... continuing \"\n"
     ]
    }
   ],
   "source": [
    "X = df['distance']\n",
    "y = df['rating']\n",
    "\n",
    "X = sm.add_constant(X) # adding a constant\n",
    "lin_reg = sm.OLS(y,X)\n",
    "\n",
    "model = lin_reg.fit()\n",
    "print_model = model.summary()\n",
    "print(print_model)"
   ]
  },
  {
   "cell_type": "markdown",
   "metadata": {
    "tags": []
   },
   "source": [
    "## Provide model output and an interpretation of the results.\n",
    "\n",
    "---"
   ]
  },
  {
   "cell_type": "markdown",
   "metadata": {},
   "source": [
    "**R-Squared**: 0.936, this is saying that the model can explain 7.9% of the data, it seems like a very poor fit, this likely telling us that\n",
    "there is little to no correlation between how far a bar is from a bike stop and the rating of that bar.\n",
    "\n",
    "**coef**: the coef of distance is saying that for every 1 unit increase in distance, rating will decrease by -0.0035.\n",
    "\n",
    "**P>|t|**: this value is 0.292 which means there is means there is plently of evidence that our null hypothesis is true therefore we can conclude that data turned out the way did soley due to natrual variance."
   ]
  },
  {
   "cell_type": "markdown",
   "metadata": {
    "tags": []
   },
   "source": [
    "Note: we used a very small amount of data in this model and only from one bikestop, these results can still be explored further but it\n",
    "is important to take note of the sample size."
   ]
  },
  {
   "cell_type": "markdown",
   "metadata": {},
   "source": [
    "## Buisness Context of results"
   ]
  },
  {
   "cell_type": "markdown",
   "metadata": {},
   "source": [
    "The results of the data analysis safely concludes that business owners should not concern themselves with having bike stations installed near their bars if their goal is into increase ratings of their business."
   ]
  },
  {
   "cell_type": "markdown",
   "metadata": {},
   "source": [
    "# Stretch"
   ]
  },
  {
   "cell_type": "markdown",
   "metadata": {},
   "source": [
    "How can you turn the regression model into a classification model?"
   ]
  },
  {
   "cell_type": "code",
   "execution_count": null,
   "metadata": {},
   "outputs": [],
   "source": []
  }
 ],
 "metadata": {
  "kernelspec": {
   "display_name": "Python 3 (ipykernel)",
   "language": "python",
   "name": "python3"
  },
  "language_info": {
   "codemirror_mode": {
    "name": "ipython",
    "version": 3
   },
   "file_extension": ".py",
   "mimetype": "text/x-python",
   "name": "python",
   "nbconvert_exporter": "python",
   "pygments_lexer": "ipython3",
   "version": "3.11.3"
  }
 },
 "nbformat": 4,
 "nbformat_minor": 4
}

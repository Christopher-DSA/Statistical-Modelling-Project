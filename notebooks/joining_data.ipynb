{
 "cells": [
  {
   "cell_type": "code",
   "execution_count": 1,
   "metadata": {
    "tags": []
   },
   "outputs": [],
   "source": [
    "import os\n",
    "import pandas as pd\n",
    "import json\n",
    "import numpy\n",
    "import matplotlib.pyplot as plt\n",
    "import seaborn as sns\n",
    "import sqlite3 as sq3"
   ]
  },
  {
   "cell_type": "code",
   "execution_count": 2,
   "metadata": {
    "tags": []
   },
   "outputs": [],
   "source": [
    "#Loading in the bike station data, parsed in the previous step\n",
    "bike_station_info = pd.read_csv('all_bike_stations_toronto.csv')\n",
    "yelp_poi_info = pd.read_csv('yelp_poi_info.csv')"
   ]
  },
  {
   "cell_type": "markdown",
   "metadata": {},
   "source": [
    "Join the data from Part 1 with the data from Part 2 to create a new dataframe."
   ]
  },
  {
   "cell_type": "code",
   "execution_count": 3,
   "metadata": {
    "tags": []
   },
   "outputs": [
    {
     "data": {
      "text/html": [
       "<div>\n",
       "<style scoped>\n",
       "    .dataframe tbody tr th:only-of-type {\n",
       "        vertical-align: middle;\n",
       "    }\n",
       "\n",
       "    .dataframe tbody tr th {\n",
       "        vertical-align: top;\n",
       "    }\n",
       "\n",
       "    .dataframe thead th {\n",
       "        text-align: right;\n",
       "    }\n",
       "</style>\n",
       "<table border=\"1\" class=\"dataframe\">\n",
       "  <thead>\n",
       "    <tr style=\"text-align: right;\">\n",
       "      <th></th>\n",
       "      <th>Unnamed: 0</th>\n",
       "      <th>bikes_no</th>\n",
       "      <th>longitude</th>\n",
       "      <th>latitude</th>\n",
       "    </tr>\n",
       "  </thead>\n",
       "  <tbody>\n",
       "    <tr>\n",
       "      <th>0</th>\n",
       "      <td>0</td>\n",
       "      <td>18</td>\n",
       "      <td>-79.319796</td>\n",
       "      <td>43.665269</td>\n",
       "    </tr>\n",
       "    <tr>\n",
       "      <th>1</th>\n",
       "      <td>1</td>\n",
       "      <td>3</td>\n",
       "      <td>-79.445947</td>\n",
       "      <td>43.671420</td>\n",
       "    </tr>\n",
       "    <tr>\n",
       "      <th>2</th>\n",
       "      <td>2</td>\n",
       "      <td>20</td>\n",
       "      <td>-79.317693</td>\n",
       "      <td>43.666224</td>\n",
       "    </tr>\n",
       "    <tr>\n",
       "      <th>3</th>\n",
       "      <td>3</td>\n",
       "      <td>10</td>\n",
       "      <td>-79.376716</td>\n",
       "      <td>43.653236</td>\n",
       "    </tr>\n",
       "    <tr>\n",
       "      <th>4</th>\n",
       "      <td>4</td>\n",
       "      <td>10</td>\n",
       "      <td>-79.380288</td>\n",
       "      <td>43.663722</td>\n",
       "    </tr>\n",
       "    <tr>\n",
       "      <th>...</th>\n",
       "      <td>...</td>\n",
       "      <td>...</td>\n",
       "      <td>...</td>\n",
       "      <td>...</td>\n",
       "    </tr>\n",
       "    <tr>\n",
       "      <th>669</th>\n",
       "      <td>669</td>\n",
       "      <td>7</td>\n",
       "      <td>-79.219952</td>\n",
       "      <td>43.735967</td>\n",
       "    </tr>\n",
       "    <tr>\n",
       "      <th>670</th>\n",
       "      <td>670</td>\n",
       "      <td>0</td>\n",
       "      <td>-79.287660</td>\n",
       "      <td>43.715466</td>\n",
       "    </tr>\n",
       "    <tr>\n",
       "      <th>671</th>\n",
       "      <td>671</td>\n",
       "      <td>4</td>\n",
       "      <td>-79.437461</td>\n",
       "      <td>43.642904</td>\n",
       "    </tr>\n",
       "    <tr>\n",
       "      <th>672</th>\n",
       "      <td>672</td>\n",
       "      <td>1</td>\n",
       "      <td>-79.268510</td>\n",
       "      <td>43.706880</td>\n",
       "    </tr>\n",
       "    <tr>\n",
       "      <th>673</th>\n",
       "      <td>673</td>\n",
       "      <td>0</td>\n",
       "      <td>-79.285287</td>\n",
       "      <td>43.697356</td>\n",
       "    </tr>\n",
       "  </tbody>\n",
       "</table>\n",
       "<p>674 rows × 4 columns</p>\n",
       "</div>"
      ],
      "text/plain": [
       "     Unnamed: 0  bikes_no  longitude   latitude\n",
       "0             0        18 -79.319796  43.665269\n",
       "1             1         3 -79.445947  43.671420\n",
       "2             2        20 -79.317693  43.666224\n",
       "3             3        10 -79.376716  43.653236\n",
       "4             4        10 -79.380288  43.663722\n",
       "..          ...       ...        ...        ...\n",
       "669         669         7 -79.219952  43.735967\n",
       "670         670         0 -79.287660  43.715466\n",
       "671         671         4 -79.437461  43.642904\n",
       "672         672         1 -79.268510  43.706880\n",
       "673         673         0 -79.285287  43.697356\n",
       "\n",
       "[674 rows x 4 columns]"
      ]
     },
     "execution_count": 3,
     "metadata": {},
     "output_type": "execute_result"
    }
   ],
   "source": [
    "bike_station_info"
   ]
  },
  {
   "cell_type": "code",
   "execution_count": 4,
   "metadata": {
    "tags": []
   },
   "outputs": [
    {
     "data": {
      "text/html": [
       "<div>\n",
       "<style scoped>\n",
       "    .dataframe tbody tr th:only-of-type {\n",
       "        vertical-align: middle;\n",
       "    }\n",
       "\n",
       "    .dataframe tbody tr th {\n",
       "        vertical-align: top;\n",
       "    }\n",
       "\n",
       "    .dataframe thead th {\n",
       "        text-align: right;\n",
       "    }\n",
       "</style>\n",
       "<table border=\"1\" class=\"dataframe\">\n",
       "  <thead>\n",
       "    <tr style=\"text-align: right;\">\n",
       "      <th></th>\n",
       "      <th>name</th>\n",
       "      <th>rating</th>\n",
       "      <th>address</th>\n",
       "      <th>latitude</th>\n",
       "      <th>longitude</th>\n",
       "      <th>distance</th>\n",
       "    </tr>\n",
       "  </thead>\n",
       "  <tbody>\n",
       "    <tr>\n",
       "      <th>0</th>\n",
       "      <td>Betty’s East</td>\n",
       "      <td>4.5</td>\n",
       "      <td>1301 Queen Street E</td>\n",
       "      <td>43.663455</td>\n",
       "      <td>-79.327992</td>\n",
       "      <td>689.778721</td>\n",
       "    </tr>\n",
       "    <tr>\n",
       "      <th>1</th>\n",
       "      <td>Lloyd's On Queen</td>\n",
       "      <td>5.0</td>\n",
       "      <td>1298 Queen St E</td>\n",
       "      <td>43.663801</td>\n",
       "      <td>-79.328356</td>\n",
       "      <td>707.598820</td>\n",
       "    </tr>\n",
       "    <tr>\n",
       "      <th>2</th>\n",
       "      <td>Boardwalk Place</td>\n",
       "      <td>2.5</td>\n",
       "      <td>1675 Lake Shore Boulevard E</td>\n",
       "      <td>43.663010</td>\n",
       "      <td>-79.310898</td>\n",
       "      <td>758.567399</td>\n",
       "    </tr>\n",
       "    <tr>\n",
       "      <th>3</th>\n",
       "      <td>Baldev Paan Cold Drink House</td>\n",
       "      <td>3.0</td>\n",
       "      <td>1399 Gerrard Street E</td>\n",
       "      <td>43.671710</td>\n",
       "      <td>-79.323520</td>\n",
       "      <td>772.512252</td>\n",
       "    </tr>\n",
       "    <tr>\n",
       "      <th>4</th>\n",
       "      <td>Two Headed Dog</td>\n",
       "      <td>2.5</td>\n",
       "      <td>1469 Gerrard Street E</td>\n",
       "      <td>43.672358</td>\n",
       "      <td>-79.320782</td>\n",
       "      <td>792.227554</td>\n",
       "    </tr>\n",
       "    <tr>\n",
       "      <th>5</th>\n",
       "      <td>The Thirsty Loon</td>\n",
       "      <td>4.0</td>\n",
       "      <td>1489 Gerrard Street E</td>\n",
       "      <td>43.672394</td>\n",
       "      <td>-79.319906</td>\n",
       "      <td>792.332218</td>\n",
       "    </tr>\n",
       "    <tr>\n",
       "      <th>6</th>\n",
       "      <td>Lake Inez</td>\n",
       "      <td>4.5</td>\n",
       "      <td>1471 Gerrard Street E</td>\n",
       "      <td>43.672340</td>\n",
       "      <td>-79.320640</td>\n",
       "      <td>794.661955</td>\n",
       "    </tr>\n",
       "    <tr>\n",
       "      <th>7</th>\n",
       "      <td>Black Pony</td>\n",
       "      <td>4.5</td>\n",
       "      <td>1481 Gerrard Street E</td>\n",
       "      <td>43.672410</td>\n",
       "      <td>-79.320400</td>\n",
       "      <td>805.518073</td>\n",
       "    </tr>\n",
       "    <tr>\n",
       "      <th>8</th>\n",
       "      <td>Jenni Place</td>\n",
       "      <td>3.0</td>\n",
       "      <td>1338 Gerrard Street E</td>\n",
       "      <td>43.671800</td>\n",
       "      <td>-79.324810</td>\n",
       "      <td>829.759140</td>\n",
       "    </tr>\n",
       "    <tr>\n",
       "      <th>9</th>\n",
       "      <td>Beach Club</td>\n",
       "      <td>3.0</td>\n",
       "      <td>1681 Lake Shore Boulevard E</td>\n",
       "      <td>43.663207</td>\n",
       "      <td>-79.310013</td>\n",
       "      <td>839.312073</td>\n",
       "    </tr>\n",
       "    <tr>\n",
       "      <th>10</th>\n",
       "      <td>Toronto Beach Club</td>\n",
       "      <td>3.0</td>\n",
       "      <td>1681 Lake Shore Boulevard E</td>\n",
       "      <td>43.663207</td>\n",
       "      <td>-79.310013</td>\n",
       "      <td>839.312073</td>\n",
       "    </tr>\n",
       "    <tr>\n",
       "      <th>11</th>\n",
       "      <td>JP Restaurant</td>\n",
       "      <td>3.5</td>\n",
       "      <td>270 Coxwell Avenue</td>\n",
       "      <td>43.673030</td>\n",
       "      <td>-79.319550</td>\n",
       "      <td>868.716398</td>\n",
       "    </tr>\n",
       "    <tr>\n",
       "      <th>12</th>\n",
       "      <td>The Duke Live</td>\n",
       "      <td>3.5</td>\n",
       "      <td>1225 Queen Street E</td>\n",
       "      <td>43.663149</td>\n",
       "      <td>-79.330307</td>\n",
       "      <td>877.705944</td>\n",
       "    </tr>\n",
       "    <tr>\n",
       "      <th>13</th>\n",
       "      <td>Shamrock Bowl and Restobar</td>\n",
       "      <td>4.0</td>\n",
       "      <td>280 Coxwell Avenue</td>\n",
       "      <td>43.673290</td>\n",
       "      <td>-79.319790</td>\n",
       "      <td>896.914859</td>\n",
       "    </tr>\n",
       "    <tr>\n",
       "      <th>14</th>\n",
       "      <td>Le Conciliabule</td>\n",
       "      <td>4.5</td>\n",
       "      <td>1300 Gerrard Street E</td>\n",
       "      <td>43.671365</td>\n",
       "      <td>-79.327225</td>\n",
       "      <td>903.609078</td>\n",
       "    </tr>\n",
       "    <tr>\n",
       "      <th>15</th>\n",
       "      <td>Queen's Head</td>\n",
       "      <td>2.5</td>\n",
       "      <td>1214 Queen Street E</td>\n",
       "      <td>43.663210</td>\n",
       "      <td>-79.330855</td>\n",
       "      <td>918.527449</td>\n",
       "    </tr>\n",
       "  </tbody>\n",
       "</table>\n",
       "</div>"
      ],
      "text/plain": [
       "                            name  rating                      address  \\\n",
       "0                   Betty’s East     4.5          1301 Queen Street E   \n",
       "1               Lloyd's On Queen     5.0              1298 Queen St E   \n",
       "2                Boardwalk Place     2.5  1675 Lake Shore Boulevard E   \n",
       "3   Baldev Paan Cold Drink House     3.0        1399 Gerrard Street E   \n",
       "4                 Two Headed Dog     2.5        1469 Gerrard Street E   \n",
       "5               The Thirsty Loon     4.0        1489 Gerrard Street E   \n",
       "6                      Lake Inez     4.5        1471 Gerrard Street E   \n",
       "7                     Black Pony     4.5        1481 Gerrard Street E   \n",
       "8                    Jenni Place     3.0        1338 Gerrard Street E   \n",
       "9                     Beach Club     3.0  1681 Lake Shore Boulevard E   \n",
       "10            Toronto Beach Club     3.0  1681 Lake Shore Boulevard E   \n",
       "11                 JP Restaurant     3.5           270 Coxwell Avenue   \n",
       "12                 The Duke Live     3.5          1225 Queen Street E   \n",
       "13    Shamrock Bowl and Restobar     4.0           280 Coxwell Avenue   \n",
       "14               Le Conciliabule     4.5        1300 Gerrard Street E   \n",
       "15                  Queen's Head     2.5          1214 Queen Street E   \n",
       "\n",
       "     latitude  longitude    distance  \n",
       "0   43.663455 -79.327992  689.778721  \n",
       "1   43.663801 -79.328356  707.598820  \n",
       "2   43.663010 -79.310898  758.567399  \n",
       "3   43.671710 -79.323520  772.512252  \n",
       "4   43.672358 -79.320782  792.227554  \n",
       "5   43.672394 -79.319906  792.332218  \n",
       "6   43.672340 -79.320640  794.661955  \n",
       "7   43.672410 -79.320400  805.518073  \n",
       "8   43.671800 -79.324810  829.759140  \n",
       "9   43.663207 -79.310013  839.312073  \n",
       "10  43.663207 -79.310013  839.312073  \n",
       "11  43.673030 -79.319550  868.716398  \n",
       "12  43.663149 -79.330307  877.705944  \n",
       "13  43.673290 -79.319790  896.914859  \n",
       "14  43.671365 -79.327225  903.609078  \n",
       "15  43.663210 -79.330855  918.527449  "
      ]
     },
     "execution_count": 4,
     "metadata": {},
     "output_type": "execute_result"
    }
   ],
   "source": [
    "yelp_poi_info = yelp_poi_info.iloc[:,1:]\n",
    "yelp_poi_info"
   ]
  },
  {
   "cell_type": "markdown",
   "metadata": {},
   "source": [
    "Provide a visualization that you used as part of your EDA process. Explain the initial pattern or relationship you discoved through this visualization. "
   ]
  },
  {
   "cell_type": "code",
   "execution_count": 5,
   "metadata": {},
   "outputs": [],
   "source": [
    "#Does this distance from a bike stop effect the rating of a bar?"
   ]
  },
  {
   "cell_type": "code",
   "execution_count": 42,
   "metadata": {
    "tags": []
   },
   "outputs": [
    {
     "data": {
      "image/png": "[encoded data removed]",
      "text/plain": [
       "<Figure size 1000x600 with 1 Axes>"
      ]
     },
     "metadata": {},
     "output_type": "display_data"
    }
   ],
   "source": [
    "plt.figure(figsize=(10,6))\n",
    "plt.scatter(yelp_poi_info['distance'], yelp_poi_info['rating'], alpha=0.5)\n",
    "plt.title('Scatter plot: Distance vs Rating', fontsize=15, color='blue')\n",
    "plt.xlabel('Distance', fontsize=12, color='blue')\n",
    "plt.ylabel('Rating', fontsize=12, color='blue')\n",
    "plt.show()"
   ]
  },
  {
   "cell_type": "markdown",
   "metadata": {
    "tags": []
   },
   "source": [
    "## Why did we use a scatterplot?"
   ]
  },
  {
   "cell_type": "markdown",
   "metadata": {},
   "source": [
    "We used a scatter plot in order to visually see the spread of the data and how strong of a corelation their might be between Distance and Rating."
   ]
  },
  {
   "cell_type": "code",
   "execution_count": null,
   "metadata": {},
   "outputs": [],
   "source": [
    "#The skew of the data"
   ]
  },
  {
   "cell_type": "code",
   "execution_count": 10,
   "metadata": {
    "tags": []
   },
   "outputs": [
    {
     "data": {
      "image/png": "[encoded data removed]",
      "text/plain": [
       "<Figure size 1000x600 with 1 Axes>"
      ]
     },
     "metadata": {},
     "output_type": "display_data"
    }
   ],
   "source": [
    "plt.figure(figsize=(10,6))\n",
    "plt.hist(yelp_poi_info['rating'])\n",
    "plt.title('Ratings of Drinking Bars on Yelp', fontsize=15, color='blue')\n",
    "plt.xlabel('Rating', fontsize=12, color='blue')\n",
    "plt.ylabel('Occurences', fontsize=12, color='blue')\n",
    "plt.show()"
   ]
  },
  {
   "cell_type": "markdown",
   "metadata": {
    "tags": []
   },
   "source": [
    "### Hypothesis testing (The question we are askimng)"
   ]
  },
  {
   "cell_type": "markdown",
   "metadata": {
    "tags": []
   },
   "source": [
    "**H0**: There is not a correlation between distance of bike stop to a bar and the rating of the bar.\n",
    "\n",
    "**HA**: There is a correlation between distance of bike stop to a bar and the rating of the bar.\n",
    "\n",
    "\n",
    "---"
   ]
  },
  {
   "cell_type": "markdown",
   "metadata": {},
   "source": [
    "# Database"
   ]
  },
  {
   "cell_type": "markdown",
   "metadata": {},
   "source": [
    "Put all your results in an SQLite3 database (remember, SQLite stores its databases as files in your local machine - make sure to create your database in your project's data/ directory!)"
   ]
  },
  {
   "cell_type": "code",
   "execution_count": 50,
   "metadata": {
    "tags": []
   },
   "outputs": [],
   "source": [
    "conn = sq3.connect('bike_data.db')"
   ]
  },
  {
   "cell_type": "code",
   "execution_count": 51,
   "metadata": {
    "tags": []
   },
   "outputs": [
    {
     "data": {
      "text/plain": [
       "16"
      ]
     },
     "execution_count": 51,
     "metadata": {},
     "output_type": "execute_result"
    }
   ],
   "source": [
    "yelp_poi_info.to_sql('yelp_data', conn, if_exists='replace', index=False)"
   ]
  },
  {
   "cell_type": "code",
   "execution_count": 55,
   "metadata": {
    "tags": []
   },
   "outputs": [
    {
     "data": {
      "text/html": [
       "<div>\n",
       "<style scoped>\n",
       "    .dataframe tbody tr th:only-of-type {\n",
       "        vertical-align: middle;\n",
       "    }\n",
       "\n",
       "    .dataframe tbody tr th {\n",
       "        vertical-align: top;\n",
       "    }\n",
       "\n",
       "    .dataframe thead th {\n",
       "        text-align: right;\n",
       "    }\n",
       "</style>\n",
       "<table border=\"1\" class=\"dataframe\">\n",
       "  <thead>\n",
       "    <tr style=\"text-align: right;\">\n",
       "      <th></th>\n",
       "      <th>name</th>\n",
       "    </tr>\n",
       "  </thead>\n",
       "  <tbody>\n",
       "    <tr>\n",
       "      <th>0</th>\n",
       "      <td>yelp_data</td>\n",
       "    </tr>\n",
       "  </tbody>\n",
       "</table>\n",
       "</div>"
      ],
      "text/plain": [
       "        name\n",
       "0  yelp_data"
      ]
     },
     "execution_count": 55,
     "metadata": {},
     "output_type": "execute_result"
    }
   ],
   "source": [
    "tables = pd.read_sql_query(\"SELECT name FROM sqlite_master WHERE type='table';\", conn)\n",
    "tables"
   ]
  },
  {
   "cell_type": "markdown",
   "metadata": {},
   "source": [
    "Look at the data before and after the join to validate your data."
   ]
  },
  {
   "cell_type": "code",
   "execution_count": 53,
   "metadata": {
    "tags": []
   },
   "outputs": [
    {
     "data": {
      "text/html": [
       "<div>\n",
       "<style scoped>\n",
       "    .dataframe tbody tr th:only-of-type {\n",
       "        vertical-align: middle;\n",
       "    }\n",
       "\n",
       "    .dataframe tbody tr th {\n",
       "        vertical-align: top;\n",
       "    }\n",
       "\n",
       "    .dataframe thead th {\n",
       "        text-align: right;\n",
       "    }\n",
       "</style>\n",
       "<table border=\"1\" class=\"dataframe\">\n",
       "  <thead>\n",
       "    <tr style=\"text-align: right;\">\n",
       "      <th></th>\n",
       "      <th>name</th>\n",
       "      <th>rating</th>\n",
       "      <th>address</th>\n",
       "      <th>latitude</th>\n",
       "      <th>longitude</th>\n",
       "      <th>distance</th>\n",
       "    </tr>\n",
       "  </thead>\n",
       "  <tbody>\n",
       "    <tr>\n",
       "      <th>0</th>\n",
       "      <td>Betty’s East</td>\n",
       "      <td>4.5</td>\n",
       "      <td>1301 Queen Street E</td>\n",
       "      <td>43.663455</td>\n",
       "      <td>-79.327992</td>\n",
       "      <td>689.778721</td>\n",
       "    </tr>\n",
       "    <tr>\n",
       "      <th>1</th>\n",
       "      <td>Lloyd's On Queen</td>\n",
       "      <td>5.0</td>\n",
       "      <td>1298 Queen St E</td>\n",
       "      <td>43.663801</td>\n",
       "      <td>-79.328356</td>\n",
       "      <td>707.598820</td>\n",
       "    </tr>\n",
       "    <tr>\n",
       "      <th>2</th>\n",
       "      <td>Boardwalk Place</td>\n",
       "      <td>2.5</td>\n",
       "      <td>1675 Lake Shore Boulevard E</td>\n",
       "      <td>43.663010</td>\n",
       "      <td>-79.310898</td>\n",
       "      <td>758.567399</td>\n",
       "    </tr>\n",
       "    <tr>\n",
       "      <th>3</th>\n",
       "      <td>Baldev Paan Cold Drink House</td>\n",
       "      <td>3.0</td>\n",
       "      <td>1399 Gerrard Street E</td>\n",
       "      <td>43.671710</td>\n",
       "      <td>-79.323520</td>\n",
       "      <td>772.512252</td>\n",
       "    </tr>\n",
       "    <tr>\n",
       "      <th>4</th>\n",
       "      <td>Two Headed Dog</td>\n",
       "      <td>2.5</td>\n",
       "      <td>1469 Gerrard Street E</td>\n",
       "      <td>43.672358</td>\n",
       "      <td>-79.320782</td>\n",
       "      <td>792.227554</td>\n",
       "    </tr>\n",
       "    <tr>\n",
       "      <th>5</th>\n",
       "      <td>The Thirsty Loon</td>\n",
       "      <td>4.0</td>\n",
       "      <td>1489 Gerrard Street E</td>\n",
       "      <td>43.672394</td>\n",
       "      <td>-79.319906</td>\n",
       "      <td>792.332218</td>\n",
       "    </tr>\n",
       "    <tr>\n",
       "      <th>6</th>\n",
       "      <td>Lake Inez</td>\n",
       "      <td>4.5</td>\n",
       "      <td>1471 Gerrard Street E</td>\n",
       "      <td>43.672340</td>\n",
       "      <td>-79.320640</td>\n",
       "      <td>794.661955</td>\n",
       "    </tr>\n",
       "    <tr>\n",
       "      <th>7</th>\n",
       "      <td>Black Pony</td>\n",
       "      <td>4.5</td>\n",
       "      <td>1481 Gerrard Street E</td>\n",
       "      <td>43.672410</td>\n",
       "      <td>-79.320400</td>\n",
       "      <td>805.518073</td>\n",
       "    </tr>\n",
       "    <tr>\n",
       "      <th>8</th>\n",
       "      <td>Jenni Place</td>\n",
       "      <td>3.0</td>\n",
       "      <td>1338 Gerrard Street E</td>\n",
       "      <td>43.671800</td>\n",
       "      <td>-79.324810</td>\n",
       "      <td>829.759140</td>\n",
       "    </tr>\n",
       "    <tr>\n",
       "      <th>9</th>\n",
       "      <td>Beach Club</td>\n",
       "      <td>3.0</td>\n",
       "      <td>1681 Lake Shore Boulevard E</td>\n",
       "      <td>43.663207</td>\n",
       "      <td>-79.310013</td>\n",
       "      <td>839.312073</td>\n",
       "    </tr>\n",
       "    <tr>\n",
       "      <th>10</th>\n",
       "      <td>Toronto Beach Club</td>\n",
       "      <td>3.0</td>\n",
       "      <td>1681 Lake Shore Boulevard E</td>\n",
       "      <td>43.663207</td>\n",
       "      <td>-79.310013</td>\n",
       "      <td>839.312073</td>\n",
       "    </tr>\n",
       "    <tr>\n",
       "      <th>11</th>\n",
       "      <td>JP Restaurant</td>\n",
       "      <td>3.5</td>\n",
       "      <td>270 Coxwell Avenue</td>\n",
       "      <td>43.673030</td>\n",
       "      <td>-79.319550</td>\n",
       "      <td>868.716398</td>\n",
       "    </tr>\n",
       "    <tr>\n",
       "      <th>12</th>\n",
       "      <td>The Duke Live</td>\n",
       "      <td>3.5</td>\n",
       "      <td>1225 Queen Street E</td>\n",
       "      <td>43.663149</td>\n",
       "      <td>-79.330307</td>\n",
       "      <td>877.705944</td>\n",
       "    </tr>\n",
       "    <tr>\n",
       "      <th>13</th>\n",
       "      <td>Shamrock Bowl and Restobar</td>\n",
       "      <td>4.0</td>\n",
       "      <td>280 Coxwell Avenue</td>\n",
       "      <td>43.673290</td>\n",
       "      <td>-79.319790</td>\n",
       "      <td>896.914859</td>\n",
       "    </tr>\n",
       "    <tr>\n",
       "      <th>14</th>\n",
       "      <td>Le Conciliabule</td>\n",
       "      <td>4.5</td>\n",
       "      <td>1300 Gerrard Street E</td>\n",
       "      <td>43.671365</td>\n",
       "      <td>-79.327225</td>\n",
       "      <td>903.609078</td>\n",
       "    </tr>\n",
       "    <tr>\n",
       "      <th>15</th>\n",
       "      <td>Queen's Head</td>\n",
       "      <td>2.5</td>\n",
       "      <td>1214 Queen Street E</td>\n",
       "      <td>43.663210</td>\n",
       "      <td>-79.330855</td>\n",
       "      <td>918.527449</td>\n",
       "    </tr>\n",
       "  </tbody>\n",
       "</table>\n",
       "</div>"
      ],
      "text/plain": [
       "                            name  rating                      address  \\\n",
       "0                   Betty’s East     4.5          1301 Queen Street E   \n",
       "1               Lloyd's On Queen     5.0              1298 Queen St E   \n",
       "2                Boardwalk Place     2.5  1675 Lake Shore Boulevard E   \n",
       "3   Baldev Paan Cold Drink House     3.0        1399 Gerrard Street E   \n",
       "4                 Two Headed Dog     2.5        1469 Gerrard Street E   \n",
       "5               The Thirsty Loon     4.0        1489 Gerrard Street E   \n",
       "6                      Lake Inez     4.5        1471 Gerrard Street E   \n",
       "7                     Black Pony     4.5        1481 Gerrard Street E   \n",
       "8                    Jenni Place     3.0        1338 Gerrard Street E   \n",
       "9                     Beach Club     3.0  1681 Lake Shore Boulevard E   \n",
       "10            Toronto Beach Club     3.0  1681 Lake Shore Boulevard E   \n",
       "11                 JP Restaurant     3.5           270 Coxwell Avenue   \n",
       "12                 The Duke Live     3.5          1225 Queen Street E   \n",
       "13    Shamrock Bowl and Restobar     4.0           280 Coxwell Avenue   \n",
       "14               Le Conciliabule     4.5        1300 Gerrard Street E   \n",
       "15                  Queen's Head     2.5          1214 Queen Street E   \n",
       "\n",
       "     latitude  longitude    distance  \n",
       "0   43.663455 -79.327992  689.778721  \n",
       "1   43.663801 -79.328356  707.598820  \n",
       "2   43.663010 -79.310898  758.567399  \n",
       "3   43.671710 -79.323520  772.512252  \n",
       "4   43.672358 -79.320782  792.227554  \n",
       "5   43.672394 -79.319906  792.332218  \n",
       "6   43.672340 -79.320640  794.661955  \n",
       "7   43.672410 -79.320400  805.518073  \n",
       "8   43.671800 -79.324810  829.759140  \n",
       "9   43.663207 -79.310013  839.312073  \n",
       "10  43.663207 -79.310013  839.312073  \n",
       "11  43.673030 -79.319550  868.716398  \n",
       "12  43.663149 -79.330307  877.705944  \n",
       "13  43.673290 -79.319790  896.914859  \n",
       "14  43.671365 -79.327225  903.609078  \n",
       "15  43.663210 -79.330855  918.527449  "
      ]
     },
     "execution_count": 53,
     "metadata": {},
     "output_type": "execute_result"
    }
   ],
   "source": [
    "df = pd.read_sql_query(\"SELECT * from yelp_data\", conn)\n",
    "df"
   ]
  },
  {
   "cell_type": "markdown",
   "metadata": {},
   "source": [
    "Our data looks good, just the way imported into the data base."
   ]
  },
  {
   "cell_type": "code",
   "execution_count": 58,
   "metadata": {
    "tags": []
   },
   "outputs": [],
   "source": [
    "conn.close()"
   ]
  }
 ],
 "metadata": {
  "kernelspec": {
   "display_name": "Python 3 (ipykernel)",
   "language": "python",
   "name": "python3"
  },
  "language_info": {
   "codemirror_mode": {
    "name": "ipython",
    "version": 3
   },
   "file_extension": ".py",
   "mimetype": "text/x-python",
   "name": "python",
   "nbconvert_exporter": "python",
   "pygments_lexer": "ipython3",
   "version": "3.11.3"
  }
 },
 "nbformat": 4,
 "nbformat_minor": 4
}
